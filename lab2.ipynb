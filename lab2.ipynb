{
 "cells": [
  {
   "cell_type": "code",
   "execution_count": 9,
   "metadata": {},
   "outputs": [],
   "source": [
    "from natasha import Doc, Segmenter, MorphVocab, NewsEmbedding, NewsMorphTagger\n",
    "from nltk.corpus import stopwords\n",
    "from nltk.stem.snowball import SnowballStemmer"
   ]
  },
  {
   "cell_type": "code",
   "execution_count": 10,
   "metadata": {},
   "outputs": [
    {
     "name": "stdout",
     "output_type": "stream",
     "text": [
      "Токены: ['Я', 'б', 'ы', 'с', 'м']\n",
      "Векторы: [1071, 1073, 1099, 1089, 1084]\n"
     ]
    }
   ],
   "source": [
    "text = \"Я бы смог завоевать весь мир одной рукой, если бы ты держала вторую.\"\n",
    "\n",
    "def tokenize(text: str) -> list[str]:\n",
    "    return list(text.replace(\" \", \"\"))\n",
    "\n",
    "\n",
    "def vectorize(tokens: list[str]) -> list[int]:\n",
    "    return [ord(token) for token in tokens]\n",
    "\n",
    "\n",
    "# Токенизация\n",
    "tokenized_text = tokenize(text)\n",
    "print(\"Токены:\", tokenized_text[:5])\n",
    "\n",
    "# Векторизация\n",
    "vectorized_text = vectorize(tokenized_text)\n",
    "print(\"Векторы:\", vectorized_text[:5])"
   ]
  },
  {
   "cell_type": "code",
   "execution_count": 11,
   "metadata": {},
   "outputs": [
    {
     "name": "stdout",
     "output_type": "stream",
     "text": [
      "Лемматизация: ['смочь', 'завоевать', 'весь', 'мир', 'рука', ',', 'держать', 'второй', '.']\n",
      "Стемминг: ['смоч', 'завоева', 'ве', 'мир', 'рук', ',', 'держа', 'втор', '.']\n",
      "Токены после Лемматизации: ['с', 'м', 'о', 'ч', 'ь', 'з', 'а', 'в', 'о', 'е', 'в', 'а', 'т', 'ь', 'в']\n",
      "Векторы после Лемматизации: [1089, 1084, 1086, 1095, 1100, 32, 1079, 1072, 1074, 1086, 1077, 1074, 1072, 1090, 1100]\n",
      "Токены после стемминга: ['с', 'м', 'о', 'ч', 'з', 'а', 'в', 'о', 'е', 'в', 'а', 'в', 'е', 'м', 'и']\n",
      "Векторы после стемминга: [1089, 1084, 1086, 1095, 32, 1079, 1072, 1074, 1086, 1077, 1074, 1072, 32, 1074, 1077]\n"
     ]
    }
   ],
   "source": [
    "segmenter = Segmenter()\n",
    "morph_vocab = MorphVocab()\n",
    "emb = NewsEmbedding()\n",
    "morph_tagger = NewsMorphTagger(emb)\n",
    "\n",
    "stemmer = SnowballStemmer(\"russian\")\n",
    "stopwords = stopwords.words(\"russian\")\n",
    "\n",
    "\n",
    "# Функция для лемматизации\n",
    "def lemmatize_text(text: str, limit: int) -> list[str]:\n",
    "    doc = Doc(text)\n",
    "\n",
    "    doc.segment(segmenter)\n",
    "\n",
    "    doc.tag_morph(morph_tagger)\n",
    "\n",
    "    for token in doc.tokens[:limit]:\n",
    "        token.lemmatize(morph_vocab)\n",
    "\n",
    "    return [token.lemma for token in doc.tokens[:limit] if token.lemma not in stopwords]\n",
    "\n",
    "\n",
    "def stem_text(lemmatized_text: str) -> list[str]:\n",
    "    return [stemmer.stem(token) for token in lemmatized_text]\n",
    "\n",
    "\n",
    "# Лемматизация\n",
    "lemmatized = lemmatize_text(text=text, limit=15)\n",
    "print(\"Лемматизация:\", lemmatized)\n",
    "\n",
    "stemmed = stem_text(lemmatized)\n",
    "print(\"Стемминг:\", stemmed)\n",
    "\n",
    "print(\"Токены после Лемматизации:\", tokenize(\" \".join(lemmatized))[:15])\n",
    "\n",
    "print(\"Векторы после Лемматизации:\", vectorize(\" \".join(lemmatized))[:15])\n",
    "\n",
    "print(\"Токены после стемминга:\", tokenize(\" \".join(stemmed))[:15])\n",
    "\n",
    "print(\"Векторы после стемминга:\", vectorize(\" \".join(stemmed))[:15])"
   ]
  }
 ],
 "metadata": {
  "kernelspec": {
   "display_name": "Python 3",
   "language": "python",
   "name": "python3"
  },
  "language_info": {
   "codemirror_mode": {
    "name": "ipython",
    "version": 3
   },
   "file_extension": ".py",
   "mimetype": "text/x-python",
   "name": "python",
   "nbconvert_exporter": "python",
   "pygments_lexer": "ipython3",
   "version": "3.12.3"
  }
 },
 "nbformat": 4,
 "nbformat_minor": 2
}
