{
 "cells": [
  {
   "cell_type": "code",
   "execution_count": 1,
   "id": "723f9b7f",
   "metadata": {},
   "outputs": [],
   "source": [
    "import numpy as np\n",
    "import matplotlib.pyplot as plt\n",
    "from sklearn.datasets import load_iris\n",
    "from sklearn.preprocessing import OneHotEncoder\n",
    "from sklearn.model_selection import train_test_split"
   ]
  },
  {
   "cell_type": "markdown",
   "id": "388906b2",
   "metadata": {},
   "source": [
    "Загрузка и подготовка данных"
   ]
  },
  {
   "cell_type": "code",
   "execution_count": 2,
   "id": "64858703",
   "metadata": {},
   "outputs": [],
   "source": [
    "data = load_iris()\n",
    "X = data.data\n",
    "y = data.target.reshape(-1, 1)\n",
    "\n",
    "encoder = OneHotEncoder(sparse_output=False)\n",
    "y_encoded = encoder.fit_transform(y)\n",
    "\n",
    "X_train, X_test, y_train, y_test = train_test_split(\n",
    "    X, y_encoded, test_size=0.2, random_state=42\n",
    ")"
   ]
  },
  {
   "cell_type": "markdown",
   "id": "5726a5e0",
   "metadata": {},
   "source": [
    "Класс NeuralNetwork"
   ]
  },
  {
   "cell_type": "code",
   "execution_count": 3,
   "id": "10765853",
   "metadata": {},
   "outputs": [],
   "source": [
    "class NeuralNetwork:\n",
    "    def __init__(self, n_input, n_hidden, n_output, learning_rate=0.01, epochs=1000):\n",
    "        self.n_input = n_input\n",
    "        self.n_hidden = n_hidden\n",
    "        self.n_output = n_output\n",
    "        self.lr = learning_rate\n",
    "        self.epochs = epochs\n",
    "        self.loss_history = []\n",
    "\n",
    "        self.W1 = np.random.randn(n_input, n_hidden)\n",
    "        self.b1 = np.zeros((1, n_hidden))\n",
    "        self.W2 = np.random.randn(n_hidden, n_output)\n",
    "        self.b2 = np.zeros((1, n_output))\n",
    "\n",
    "    @staticmethod\n",
    "    def sigmoid(z):\n",
    "        return 1 / (1 + np.exp(-z))\n",
    "\n",
    "    @staticmethod\n",
    "    def sigmoid_derivative(a):\n",
    "        return a * (1 - a)\n",
    "\n",
    "    @staticmethod\n",
    "    def softmax(z):\n",
    "        exp_z = np.exp(z - np.max(z, axis=1, keepdims=True))\n",
    "        return exp_z / np.sum(exp_z, axis=1, keepdims=True)\n",
    "\n",
    "    @staticmethod\n",
    "    def cross_entropy(y_true, y_pred):\n",
    "        m = y_true.shape[0]\n",
    "        return -np.sum(y_true * np.log(y_pred + 1e-9)) / m\n",
    "\n",
    "    def forward(self, X):\n",
    "        self.z1 = np.dot(X, self.W1) + self.b1\n",
    "        self.a1 = self.sigmoid(self.z1)\n",
    "        self.z2 = np.dot(self.a1, self.W2) + self.b2\n",
    "        self.a2 = self.softmax(self.z2)\n",
    "        return self.a2\n",
    "\n",
    "    def backward(self, X, y):\n",
    "        m = y.shape[0]\n",
    "        dz2 = self.a2 - y\n",
    "        dW2 = np.dot(self.a1.T, dz2) / m\n",
    "        db2 = np.sum(dz2, axis=0, keepdims=True) / m\n",
    "\n",
    "        da1 = np.dot(dz2, self.W2.T)\n",
    "        dz1 = da1 * self.sigmoid_derivative(self.a1)\n",
    "        dW1 = np.dot(X.T, dz1) / m\n",
    "        db1 = np.sum(dz1, axis=0, keepdims=True) / m\n",
    "\n",
    "        self.W2 -= self.lr * dW2\n",
    "        self.b2 -= self.lr * db2\n",
    "        self.W1 -= self.lr * dW1\n",
    "        self.b1 -= self.lr * db1\n",
    "\n",
    "    def train(self, X, y):\n",
    "        for i in range(self.epochs):\n",
    "            y_pred = self.forward(X)\n",
    "            loss = self.cross_entropy(y, y_pred)\n",
    "            self.loss_history.append(loss)\n",
    "            self.backward(X, y)\n",
    "            if i % 100 == 0:\n",
    "                print(f\"Epoch {i}, Loss: {loss:.4f}\")\n",
    "\n",
    "    def predict(self, X):\n",
    "        y_pred = self.forward(X)\n",
    "        return np.argmax(y_pred, axis=1)\n",
    "\n",
    "    def evaluate(self, X, y):\n",
    "        y_pred = self.predict(X)\n",
    "        y_true = np.argmax(y, axis=1)\n",
    "        accuracy = np.mean(y_pred == y_true)\n",
    "        print(f\"Accuracy: {accuracy * 100:.2f}%\")"
   ]
  },
  {
   "cell_type": "markdown",
   "id": "d5bc410f",
   "metadata": {},
   "source": [
    " Инициализация и запуск обучения"
   ]
  },
  {
   "cell_type": "code",
   "execution_count": 4,
   "id": "1704a974",
   "metadata": {},
   "outputs": [
    {
     "name": "stdout",
     "output_type": "stream",
     "text": [
      "Epoch 0, Loss: 2.3023\n",
      "Epoch 100, Loss: 0.5777\n",
      "Epoch 200, Loss: 0.3942\n",
      "Epoch 300, Loss: 0.3057\n",
      "Epoch 400, Loss: 0.2512\n",
      "Epoch 500, Loss: 0.2139\n",
      "Epoch 600, Loss: 0.1872\n",
      "Epoch 700, Loss: 0.1673\n",
      "Epoch 800, Loss: 0.1520\n",
      "Epoch 900, Loss: 0.1400\n",
      "Accuracy: 96.67%\n"
     ]
    },
    {
     "data": {
      "image/png": "[encoded data removed]",
      "text/plain": [
       "<Figure size 640x480 with 1 Axes>"
      ]
     },
     "metadata": {},
     "output_type": "display_data"
    }
   ],
   "source": [
    "model = NeuralNetwork(n_input=4, n_hidden=6, n_output=3, learning_rate=0.1, epochs=1000)\n",
    "model.train(X_train, y_train)\n",
    "model.evaluate(X_test, y_test)\n",
    "\n",
    "# Визуализация потерь\n",
    "plt.plot(model.loss_history)\n",
    "plt.title(\"Loss over epochs\")\n",
    "plt.xlabel(\"Epoch\")\n",
    "plt.ylabel(\"Cross-Entropy Loss\")\n",
    "plt.grid(True)\n",
    "plt.show()"
   ]
  }
 ],
 "metadata": {
  "kernelspec": {
   "display_name": "Python 3",
   "language": "python",
   "name": "python3"
  },
  "language_info": {
   "codemirror_mode": {
    "name": "ipython",
    "version": 3
   },
   "file_extension": ".py",
   "mimetype": "text/x-python",
   "name": "python",
   "nbconvert_exporter": "python",
   "pygments_lexer": "ipython3",
   "version": "3.12.3"
  }
 },
 "nbformat": 4,
 "nbformat_minor": 5
}
